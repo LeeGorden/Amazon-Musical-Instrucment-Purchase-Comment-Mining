{
 "cells": [
  {
   "cell_type": "markdown",
   "metadata": {},
   "source": [
    "## SENTIMENT ANALYSIS Based on Supervised Learning\n",
    "\n",
    "**<font color=green>INSTRUCTIONS:</font>** <br> <br>\n",
    "    **<font color=green>1. Look for EXERCISES and QUESTIONS in this script. </font>** <br> <br>\n",
    "    **<font color=green>2. Each student INDIVIDUALLY uploads this script with their answers embedded to Canvas.</font>** <br>\n",
    "\n",
    "### Objectives\n",
    "\n",
    "1. Learn how to perform lexicon-based (unsupervised machine learning) sentiment analysis.\n",
    "2. Fine-tune a lexicon-based sentiment analyzer.\n",
    "2. Train your own sentiment classifier."
   ]
  },
  {
   "cell_type": "markdown",
   "metadata": {},
   "source": [
    "### Session Prep"
   ]
  },
  {
   "cell_type": "code",
   "execution_count": 53,
   "metadata": {},
   "outputs": [
    {
     "name": "stdout",
     "output_type": "stream",
     "text": [
      "Requirement already satisfied: html.parser in c:\\personal\\anaconda3\\lib\\site-packages (0.2)\n",
      "Requirement already satisfied: ply in c:\\personal\\anaconda3\\lib\\site-packages (from html.parser) (3.11)\n",
      "Requirement already satisfied: pattern3 in c:\\personal\\anaconda3\\lib\\site-packages (3.0.0)\n",
      "Requirement already satisfied: docx in c:\\personal\\anaconda3\\lib\\site-packages (from pattern3) (0.2.4)\n",
      "Requirement already satisfied: pdfminer3k in c:\\personal\\anaconda3\\lib\\site-packages (from pattern3) (1.3.4)\n",
      "Requirement already satisfied: pdfminer.six in c:\\personal\\anaconda3\\lib\\site-packages (from pattern3) (20211012)\n",
      "Requirement already satisfied: beautifulsoup4 in c:\\personal\\anaconda3\\lib\\site-packages (from pattern3) (4.10.0)\n",
      "Requirement already satisfied: simplejson in c:\\personal\\anaconda3\\lib\\site-packages (from pattern3) (3.17.5)\n",
      "Requirement already satisfied: cherrypy in c:\\personal\\anaconda3\\lib\\site-packages (from pattern3) (18.6.1)\n",
      "Requirement already satisfied: feedparser in c:\\personal\\anaconda3\\lib\\site-packages (from pattern3) (6.0.8)\n",
      "Requirement already satisfied: soupsieve>1.2 in c:\\personal\\anaconda3\\lib\\site-packages (from beautifulsoup4->pattern3) (2.2.1)\n",
      "Requirement already satisfied: cheroot>=8.2.1 in c:\\personal\\anaconda3\\lib\\site-packages (from cherrypy->pattern3) (8.5.2)\n",
      "Requirement already satisfied: pywin32>=227 in c:\\personal\\anaconda3\\lib\\site-packages (from cherrypy->pattern3) (228)\n",
      "Requirement already satisfied: portend>=2.1.1 in c:\\personal\\anaconda3\\lib\\site-packages (from cherrypy->pattern3) (3.0.0)\n",
      "Requirement already satisfied: more-itertools in c:\\personal\\anaconda3\\lib\\site-packages (from cherrypy->pattern3) (8.8.0)\n",
      "Requirement already satisfied: jaraco.collections in c:\\personal\\anaconda3\\lib\\site-packages (from cherrypy->pattern3) (3.4.0)\n",
      "Requirement already satisfied: zc.lockfile in c:\\personal\\anaconda3\\lib\\site-packages (from cherrypy->pattern3) (2.0)\n",
      "Requirement already satisfied: jaraco.functools in c:\\personal\\anaconda3\\lib\\site-packages (from cheroot>=8.2.1->cherrypy->pattern3) (3.4.0)\n",
      "Requirement already satisfied: six>=1.11.0 in c:\\personal\\anaconda3\\lib\\site-packages (from cheroot>=8.2.1->cherrypy->pattern3) (1.16.0)\n",
      "Requirement already satisfied: tempora>=1.8 in c:\\personal\\anaconda3\\lib\\site-packages (from portend>=2.1.1->cherrypy->pattern3) (4.1.2)\n",
      "Requirement already satisfied: pytz in c:\\personal\\anaconda3\\lib\\site-packages (from tempora>=1.8->portend>=2.1.1->cherrypy->pattern3) (2021.3)\n",
      "Requirement already satisfied: Pillow>=2.0 in c:\\personal\\anaconda3\\lib\\site-packages (from docx->pattern3) (8.4.0)\n",
      "Requirement already satisfied: lxml in c:\\personal\\anaconda3\\lib\\site-packages (from docx->pattern3) (4.6.3)\n",
      "Requirement already satisfied: sgmllib3k in c:\\personal\\anaconda3\\lib\\site-packages (from feedparser->pattern3) (1.0.0)\n",
      "Requirement already satisfied: jaraco.text in c:\\personal\\anaconda3\\lib\\site-packages (from jaraco.collections->cherrypy->pattern3) (3.6.0)\n",
      "Requirement already satisfied: jaraco.classes in c:\\personal\\anaconda3\\lib\\site-packages (from jaraco.collections->cherrypy->pattern3) (3.2.1)\n",
      "Requirement already satisfied: importlib-resources in c:\\personal\\anaconda3\\lib\\site-packages (from jaraco.text->jaraco.collections->cherrypy->pattern3) (5.4.0)\n",
      "Requirement already satisfied: zipp>=3.1.0 in c:\\personal\\anaconda3\\lib\\site-packages (from importlib-resources->jaraco.text->jaraco.collections->cherrypy->pattern3) (3.6.0)\n",
      "Requirement already satisfied: cryptography in c:\\personal\\anaconda3\\lib\\site-packages (from pdfminer.six->pattern3) (3.4.8)\n",
      "Requirement already satisfied: chardet in c:\\personal\\anaconda3\\lib\\site-packages (from pdfminer.six->pattern3) (4.0.0)\n",
      "Requirement already satisfied: cffi>=1.12 in c:\\personal\\anaconda3\\lib\\site-packages (from cryptography->pdfminer.six->pattern3) (1.14.6)\n",
      "Requirement already satisfied: pycparser in c:\\personal\\anaconda3\\lib\\site-packages (from cffi>=1.12->cryptography->pdfminer.six->pattern3) (2.20)\n",
      "Requirement already satisfied: ply in c:\\personal\\anaconda3\\lib\\site-packages (from pdfminer3k->pattern3) (3.11)\n",
      "Requirement already satisfied: setuptools in c:\\personal\\anaconda3\\lib\\site-packages (from zc.lockfile->cherrypy->pattern3) (58.0.4)\n",
      "Requirement already satisfied: pyLDAvis in c:\\personal\\anaconda3\\lib\\site-packages (3.3.1)\n",
      "Requirement already satisfied: future in c:\\personal\\anaconda3\\lib\\site-packages (from pyLDAvis) (0.18.2)\n",
      "Requirement already satisfied: gensim in c:\\personal\\anaconda3\\lib\\site-packages (from pyLDAvis) (4.1.2)\n",
      "Requirement already satisfied: pandas>=1.2.0 in c:\\personal\\anaconda3\\lib\\site-packages (from pyLDAvis) (1.3.3)\n",
      "Requirement already satisfied: numexpr in c:\\personal\\anaconda3\\lib\\site-packages (from pyLDAvis) (2.7.3)\n",
      "Requirement already satisfied: sklearn in c:\\personal\\anaconda3\\lib\\site-packages (from pyLDAvis) (0.0)\n",
      "Requirement already satisfied: scipy in c:\\personal\\anaconda3\\lib\\site-packages (from pyLDAvis) (1.7.1)\n",
      "Requirement already satisfied: jinja2 in c:\\personal\\anaconda3\\lib\\site-packages (from pyLDAvis) (2.11.3)\n",
      "Requirement already satisfied: setuptools in c:\\personal\\anaconda3\\lib\\site-packages (from pyLDAvis) (58.0.4)\n",
      "Requirement already satisfied: scikit-learn in c:\\personal\\anaconda3\\lib\\site-packages (from pyLDAvis) (0.24.2)\n",
      "Requirement already satisfied: numpy>=1.20.0 in c:\\personal\\anaconda3\\lib\\site-packages (from pyLDAvis) (1.21.2)\n",
      "Requirement already satisfied: funcy in c:\\personal\\anaconda3\\lib\\site-packages (from pyLDAvis) (1.16)\n",
      "Requirement already satisfied: joblib in c:\\personal\\anaconda3\\lib\\site-packages (from pyLDAvis) (1.0.1)\n",
      "Requirement already satisfied: python-dateutil>=2.7.3 in c:\\personal\\anaconda3\\lib\\site-packages (from pandas>=1.2.0->pyLDAvis) (2.8.2)\n",
      "Requirement already satisfied: pytz>=2017.3 in c:\\personal\\anaconda3\\lib\\site-packages (from pandas>=1.2.0->pyLDAvis) (2021.3)\n",
      "Requirement already satisfied: six>=1.5 in c:\\personal\\anaconda3\\lib\\site-packages (from python-dateutil>=2.7.3->pandas>=1.2.0->pyLDAvis) (1.16.0)\n",
      "Requirement already satisfied: smart-open>=1.8.1 in c:\\personal\\anaconda3\\lib\\site-packages (from gensim->pyLDAvis) (5.2.1)\n",
      "Requirement already satisfied: Cython==0.29.23 in c:\\personal\\anaconda3\\lib\\site-packages (from gensim->pyLDAvis) (0.29.23)\n",
      "Requirement already satisfied: MarkupSafe>=0.23 in c:\\personal\\anaconda3\\lib\\site-packages (from jinja2->pyLDAvis) (1.1.1)\n",
      "Requirement already satisfied: threadpoolctl>=2.0.0 in c:\\personal\\anaconda3\\lib\\site-packages (from scikit-learn->pyLDAvis) (2.2.0)\n",
      "Original:   <p>The circus dog in a plissé skirt jumped over Python who wasn't that large, just 3 feet long.</p>\n",
      "Processed:  ['<', 'p', '>', 'The', 'circus', 'dog', 'in', 'a', 'plissé', 'skirt', 'jumped', 'over', 'Python', 'who', 'was', \"n't\", 'that', 'large', ',', 'just', '3', 'feet', 'long.', '<', '/p', '>']\n",
      "Original:   <p>The circus dog in a plissé skirt jumped over Python who wasn't that large, just 3 feet long.</p>\n",
      "Processed:  <p>The circus dog in a plissé skirt jumped over Python who was not that large, just 3 feet long.</p>\n",
      "Original:   <p>The circus dog in a plissé skirt jumped over Python who wasn't that large, just 3 feet long.</p>\n",
      "Processed:  [('<', 'a'), ('p', 'n'), ('>', 'v'), ('the', None), ('circus', 'n'), ('dog', 'n'), ('in', None), ('a', None), ('plissé', 'n'), ('skirt', 'n'), ('jumped', 'v'), ('over', None), ('python', 'n'), ('who', None), ('was', 'v'), (\"n't\", 'r'), ('that', None), ('large', 'a'), (',', None), ('just', 'r'), ('3', None), ('feet', 'n'), ('long.', 'a'), ('<', 'n'), ('/p', 'n'), ('>', 'n')]\n",
      "Original:   <p>The circus dog in a plissé skirt jumped over Python who wasn't that large, just 3 feet long.</p>\n",
      "Processed:  < p > the circus dog in a plissé skirt jump over python who be n't that large , just 3 foot long. < /p >\n",
      "Original:   <p>The circus dog in a plissé skirt jumped over Python who wasn't that large, just 3 feet long.</p>\n",
      "Processed:    p   The circus dog in a plissé skirt jumped over Python who was n t that large   just 3 feet long     p  \n",
      "Original:   <p>The circus dog in a plissé skirt jumped over Python who wasn't that large, just 3 feet long.</p>\n",
      "Processed:  < p > The circus dog plissé skirt jumped Python n't large , 3 feet long. < /p >\n",
      "Original:   <p>The circus dog in a plissé skirt jumped over Python who wasn't that large, just 3 feet long.</p>\n",
      "Processed:  p The circus dog in a plissé skirt jumped over Python who was n't that large just feet long. /p\n",
      "Original:   <p>The circus dog in a plissé skirt jumped over Python who wasn't that large, just 3 feet long.</p>\n",
      "Processed:  The circus dog in a plissé skirt jumped over Python who wasn't that large, just 3 feet long.\n",
      "Original:   <p>The circus dog in a plissé skirt jumped over Python who wasn't that large, just 3 feet long.</p>\n",
      "Processed:  <p>The circus dog in a plisse skirt jumped over Python who wasn't that large, just 3 feet long.</p>\n"
     ]
    },
    {
     "name": "stderr",
     "output_type": "stream",
     "text": [
      "[nltk_data] Downloading package stopwords to\n",
      "[nltk_data]     C:\\Users\\LiGoudan\\AppData\\Roaming\\nltk_data...\n",
      "[nltk_data]   Package stopwords is already up-to-date!\n",
      "[nltk_data] Downloading package punkt to\n",
      "[nltk_data]     C:\\Users\\LiGoudan\\AppData\\Roaming\\nltk_data...\n",
      "[nltk_data]   Package punkt is already up-to-date!\n",
      "[nltk_data] Downloading package averaged_perceptron_tagger to\n",
      "[nltk_data]     C:\\Users\\LiGoudan\\AppData\\Roaming\\nltk_data...\n",
      "[nltk_data]   Package averaged_perceptron_tagger is already up-to-\n",
      "[nltk_data]       date!\n",
      "[nltk_data] Downloading package wordnet to\n",
      "[nltk_data]     C:\\Users\\LiGoudan\\AppData\\Roaming\\nltk_data...\n",
      "[nltk_data]   Package wordnet is already up-to-date!\n"
     ]
    }
   ],
   "source": [
    "#packages needed\n",
    "\n",
    "#ignore warnings about future changes in functions as they take too much space\n",
    "import warnings\n",
    "warnings.simplefilter(action='ignore', category=FutureWarning)\n",
    "warnings.filterwarnings(\"ignore\", category=DeprecationWarning)\n",
    "\n",
    "import numpy as np \n",
    "import pandas as pd\n",
    "\n",
    "#text normalization function\n",
    "%run ./Text_Normalization_Function.ipynb\n",
    "\n",
    "#ignore warnings about future changes in functions as they take too much space\n",
    "warnings.simplefilter(action='ignore', category=FutureWarning)\n",
    "warnings.filterwarnings(\"ignore\", category=DeprecationWarning)"
   ]
  },
  {
   "cell_type": "markdown",
   "metadata": {},
   "source": [
    "### Dataset\n",
    "\n",
    "AmazonMucisInstrucment"
   ]
  },
  {
   "cell_type": "markdown",
   "metadata": {},
   "source": [
    "### Data Preprocess"
   ]
  },
  {
   "cell_type": "code",
   "execution_count": 54,
   "metadata": {},
   "outputs": [
    {
     "name": "stdout",
     "output_type": "stream",
     "text": [
      "Dimensions for data: (10254, 2)\n",
      "First 5 rows in dataset: \n",
      "                                           reviewText  overall\n",
      "0  Not much to write about here, but it does exac...        5\n",
      "1  The product does exactly as it should and is q...        5\n",
      "2  The primary job of this device is to block the...        5\n",
      "3  Nice windscreen protects my MXL mic and preven...        5\n",
      "4  This pop filter is great. It looks and perform...        5 \n",
      "\n"
     ]
    }
   ],
   "source": [
    "# Import in the data\n",
    "data = pd.read_csv('Musical_instruments_reviews.csv')\n",
    "data = data.loc[:, ['reviewText', 'overall']]\n",
    "\n",
    "# Delete Null Samples\n",
    "float_ind = list()\n",
    "str_ind = list()\n",
    "for ind in data.index:\n",
    "    if type(data.loc[ind, 'reviewText']) == float:\n",
    "        float_ind.append(ind)\n",
    "    elif type(data.loc[ind, 'reviewText']) == str:\n",
    "        str_ind.append(ind)\n",
    "    else:\n",
    "        print(str(i) + ': ' + str(type(data.loc[ind, 'reviewText'])))\n",
    "\n",
    "# Delete blank samples\n",
    "data.drop(labels=None, axis=0, index=float_ind, columns=None, inplace=True)\n",
    "\n",
    "print(\"Dimensions for data:\", data.shape)\n",
    "print(\"First 5 rows in dataset: \\n\", data.head(),\"\\n\")"
   ]
  },
  {
   "cell_type": "markdown",
   "metadata": {},
   "source": [
    "### Topic Modelling"
   ]
  },
  {
   "cell_type": "code",
   "execution_count": 55,
   "metadata": {},
   "outputs": [
    {
     "name": "stdout",
     "output_type": "stream",
     "text": [
      "Requirement already satisfied: html.parser in c:\\personal\\anaconda3\\lib\\site-packages (0.2)\n",
      "Requirement already satisfied: ply in c:\\personal\\anaconda3\\lib\\site-packages (from html.parser) (3.11)\n",
      "Requirement already satisfied: pattern3 in c:\\personal\\anaconda3\\lib\\site-packages (3.0.0)\n",
      "Requirement already satisfied: feedparser in c:\\personal\\anaconda3\\lib\\site-packages (from pattern3) (6.0.8)\n",
      "Requirement already satisfied: docx in c:\\personal\\anaconda3\\lib\\site-packages (from pattern3) (0.2.4)\n",
      "Requirement already satisfied: simplejson in c:\\personal\\anaconda3\\lib\\site-packages (from pattern3) (3.17.5)\n",
      "Requirement already satisfied: pdfminer.six in c:\\personal\\anaconda3\\lib\\site-packages (from pattern3) (20211012)\n",
      "Requirement already satisfied: cherrypy in c:\\personal\\anaconda3\\lib\\site-packages (from pattern3) (18.6.1)\n",
      "Requirement already satisfied: beautifulsoup4 in c:\\personal\\anaconda3\\lib\\site-packages (from pattern3) (4.10.0)\n",
      "Requirement already satisfied: pdfminer3k in c:\\personal\\anaconda3\\lib\\site-packages (from pattern3) (1.3.4)\n",
      "Requirement already satisfied: soupsieve>1.2 in c:\\personal\\anaconda3\\lib\\site-packages (from beautifulsoup4->pattern3) (2.2.1)\n",
      "Requirement already satisfied: portend>=2.1.1 in c:\\personal\\anaconda3\\lib\\site-packages (from cherrypy->pattern3) (3.0.0)\n",
      "Requirement already satisfied: cheroot>=8.2.1 in c:\\personal\\anaconda3\\lib\\site-packages (from cherrypy->pattern3) (8.5.2)\n",
      "Requirement already satisfied: pywin32>=227 in c:\\personal\\anaconda3\\lib\\site-packages (from cherrypy->pattern3) (228)\n",
      "Requirement already satisfied: zc.lockfile in c:\\personal\\anaconda3\\lib\\site-packages (from cherrypy->pattern3) (2.0)\n",
      "Requirement already satisfied: more-itertools in c:\\personal\\anaconda3\\lib\\site-packages (from cherrypy->pattern3) (8.8.0)\n",
      "Requirement already satisfied: jaraco.collections in c:\\personal\\anaconda3\\lib\\site-packages (from cherrypy->pattern3) (3.4.0)\n",
      "Requirement already satisfied: six>=1.11.0 in c:\\personal\\anaconda3\\lib\\site-packages (from cheroot>=8.2.1->cherrypy->pattern3) (1.16.0)\n",
      "Requirement already satisfied: jaraco.functools in c:\\personal\\anaconda3\\lib\\site-packages (from cheroot>=8.2.1->cherrypy->pattern3) (3.4.0)\n",
      "Requirement already satisfied: tempora>=1.8 in c:\\personal\\anaconda3\\lib\\site-packages (from portend>=2.1.1->cherrypy->pattern3) (4.1.2)\n",
      "Requirement already satisfied: pytz in c:\\personal\\anaconda3\\lib\\site-packages (from tempora>=1.8->portend>=2.1.1->cherrypy->pattern3) (2021.3)\n",
      "Requirement already satisfied: Pillow>=2.0 in c:\\personal\\anaconda3\\lib\\site-packages (from docx->pattern3) (8.4.0)\n",
      "Requirement already satisfied: lxml in c:\\personal\\anaconda3\\lib\\site-packages (from docx->pattern3) (4.6.3)\n",
      "Requirement already satisfied: sgmllib3k in c:\\personal\\anaconda3\\lib\\site-packages (from feedparser->pattern3) (1.0.0)\n",
      "Requirement already satisfied: jaraco.text in c:\\personal\\anaconda3\\lib\\site-packages (from jaraco.collections->cherrypy->pattern3) (3.6.0)\n",
      "Requirement already satisfied: jaraco.classes in c:\\personal\\anaconda3\\lib\\site-packages (from jaraco.collections->cherrypy->pattern3) (3.2.1)\n",
      "Requirement already satisfied: importlib-resources in c:\\personal\\anaconda3\\lib\\site-packages (from jaraco.text->jaraco.collections->cherrypy->pattern3) (5.4.0)\n",
      "Requirement already satisfied: zipp>=3.1.0 in c:\\personal\\anaconda3\\lib\\site-packages (from importlib-resources->jaraco.text->jaraco.collections->cherrypy->pattern3) (3.6.0)\n",
      "Requirement already satisfied: chardet in c:\\personal\\anaconda3\\lib\\site-packages (from pdfminer.six->pattern3) (4.0.0)\n",
      "Requirement already satisfied: cryptography in c:\\personal\\anaconda3\\lib\\site-packages (from pdfminer.six->pattern3) (3.4.8)\n",
      "Requirement already satisfied: cffi>=1.12 in c:\\personal\\anaconda3\\lib\\site-packages (from cryptography->pdfminer.six->pattern3) (1.14.6)\n",
      "Requirement already satisfied: pycparser in c:\\personal\\anaconda3\\lib\\site-packages (from cffi>=1.12->cryptography->pdfminer.six->pattern3) (2.20)\n",
      "Requirement already satisfied: ply in c:\\personal\\anaconda3\\lib\\site-packages (from pdfminer3k->pattern3) (3.11)\n",
      "Requirement already satisfied: setuptools in c:\\personal\\anaconda3\\lib\\site-packages (from zc.lockfile->cherrypy->pattern3) (58.0.4)\n",
      "Requirement already satisfied: pyLDAvis in c:\\personal\\anaconda3\\lib\\site-packages (3.3.1)\n",
      "Requirement already satisfied: pandas>=1.2.0 in c:\\personal\\anaconda3\\lib\\site-packages (from pyLDAvis) (1.3.3)\n",
      "Requirement already satisfied: joblib in c:\\personal\\anaconda3\\lib\\site-packages (from pyLDAvis) (1.0.1)\n",
      "Requirement already satisfied: future in c:\\personal\\anaconda3\\lib\\site-packages (from pyLDAvis) (0.18.2)\n",
      "Requirement already satisfied: jinja2 in c:\\personal\\anaconda3\\lib\\site-packages (from pyLDAvis) (2.11.3)\n",
      "Requirement already satisfied: scipy in c:\\personal\\anaconda3\\lib\\site-packages (from pyLDAvis) (1.7.1)\n",
      "Requirement already satisfied: numpy>=1.20.0 in c:\\personal\\anaconda3\\lib\\site-packages (from pyLDAvis) (1.21.2)\n",
      "Requirement already satisfied: gensim in c:\\personal\\anaconda3\\lib\\site-packages (from pyLDAvis) (4.1.2)\n",
      "Requirement already satisfied: setuptools in c:\\personal\\anaconda3\\lib\\site-packages (from pyLDAvis) (58.0.4)\n",
      "Requirement already satisfied: scikit-learn in c:\\personal\\anaconda3\\lib\\site-packages (from pyLDAvis) (0.24.2)\n",
      "Requirement already satisfied: numexpr in c:\\personal\\anaconda3\\lib\\site-packages (from pyLDAvis) (2.7.3)\n",
      "Requirement already satisfied: funcy in c:\\personal\\anaconda3\\lib\\site-packages (from pyLDAvis) (1.16)\n",
      "Requirement already satisfied: sklearn in c:\\personal\\anaconda3\\lib\\site-packages (from pyLDAvis) (0.0)\n",
      "Requirement already satisfied: python-dateutil>=2.7.3 in c:\\personal\\anaconda3\\lib\\site-packages (from pandas>=1.2.0->pyLDAvis) (2.8.2)\n",
      "Requirement already satisfied: pytz>=2017.3 in c:\\personal\\anaconda3\\lib\\site-packages (from pandas>=1.2.0->pyLDAvis) (2021.3)\n",
      "Requirement already satisfied: six>=1.5 in c:\\personal\\anaconda3\\lib\\site-packages (from python-dateutil>=2.7.3->pandas>=1.2.0->pyLDAvis) (1.16.0)\n",
      "Requirement already satisfied: smart-open>=1.8.1 in c:\\personal\\anaconda3\\lib\\site-packages (from gensim->pyLDAvis) (5.2.1)\n",
      "Requirement already satisfied: Cython==0.29.23 in c:\\personal\\anaconda3\\lib\\site-packages (from gensim->pyLDAvis) (0.29.23)\n",
      "Requirement already satisfied: MarkupSafe>=0.23 in c:\\personal\\anaconda3\\lib\\site-packages (from jinja2->pyLDAvis) (1.1.1)\n",
      "Requirement already satisfied: threadpoolctl>=2.0.0 in c:\\personal\\anaconda3\\lib\\site-packages (from scikit-learn->pyLDAvis) (2.2.0)\n",
      "Original:   <p>The circus dog in a plissé skirt jumped over Python who wasn't that large, just 3 feet long.</p>\n",
      "Processed:  ['<', 'p', '>', 'The', 'circus', 'dog', 'in', 'a', 'plissé', 'skirt', 'jumped', 'over', 'Python', 'who', 'was', \"n't\", 'that', 'large', ',', 'just', '3', 'feet', 'long.', '<', '/p', '>']\n",
      "Original:   <p>The circus dog in a plissé skirt jumped over Python who wasn't that large, just 3 feet long.</p>\n",
      "Processed:  <p>The circus dog in a plissé skirt jumped over Python who was not that large, just 3 feet long.</p>\n",
      "Original:   <p>The circus dog in a plissé skirt jumped over Python who wasn't that large, just 3 feet long.</p>\n",
      "Processed:  [('<', 'a'), ('p', 'n'), ('>', 'v'), ('the', None), ('circus', 'n'), ('dog', 'n'), ('in', None), ('a', None), ('plissé', 'n'), ('skirt', 'n'), ('jumped', 'v'), ('over', None), ('python', 'n'), ('who', None), ('was', 'v'), (\"n't\", 'r'), ('that', None), ('large', 'a'), (',', None), ('just', 'r'), ('3', None), ('feet', 'n'), ('long.', 'a'), ('<', 'n'), ('/p', 'n'), ('>', 'n')]\n",
      "Original:   <p>The circus dog in a plissé skirt jumped over Python who wasn't that large, just 3 feet long.</p>\n",
      "Processed:  < p > the circus dog in a plissé skirt jump over python who be n't that large , just 3 foot long. < /p >\n",
      "Original:   <p>The circus dog in a plissé skirt jumped over Python who wasn't that large, just 3 feet long.</p>\n",
      "Processed:    p   The circus dog in a plissé skirt jumped over Python who was n t that large   just 3 feet long     p  \n",
      "Original:   <p>The circus dog in a plissé skirt jumped over Python who wasn't that large, just 3 feet long.</p>\n",
      "Processed:  < p > The circus dog plissé skirt jumped Python n't large , 3 feet long. < /p >\n",
      "Original:   <p>The circus dog in a plissé skirt jumped over Python who wasn't that large, just 3 feet long.</p>\n",
      "Processed:  p The circus dog in a plissé skirt jumped over Python who was n't that large just feet long. /p\n",
      "Original:   <p>The circus dog in a plissé skirt jumped over Python who wasn't that large, just 3 feet long.</p>\n",
      "Processed:  The circus dog in a plissé skirt jumped over Python who wasn't that large, just 3 feet long.\n",
      "Original:   <p>The circus dog in a plissé skirt jumped over Python who wasn't that large, just 3 feet long.</p>\n",
      "Processed:  <p>The circus dog in a plisse skirt jumped over Python who wasn't that large, just 3 feet long.</p>\n"
     ]
    },
    {
     "name": "stderr",
     "output_type": "stream",
     "text": [
      "[nltk_data] Downloading package stopwords to\n",
      "[nltk_data]     C:\\Users\\LiGoudan\\AppData\\Roaming\\nltk_data...\n",
      "[nltk_data]   Package stopwords is already up-to-date!\n",
      "[nltk_data] Downloading package punkt to\n",
      "[nltk_data]     C:\\Users\\LiGoudan\\AppData\\Roaming\\nltk_data...\n",
      "[nltk_data]   Package punkt is already up-to-date!\n",
      "[nltk_data] Downloading package averaged_perceptron_tagger to\n",
      "[nltk_data]     C:\\Users\\LiGoudan\\AppData\\Roaming\\nltk_data...\n",
      "[nltk_data]   Package averaged_perceptron_tagger is already up-to-\n",
      "[nltk_data]       date!\n",
      "[nltk_data] Downloading package wordnet to\n",
      "[nltk_data]     C:\\Users\\LiGoudan\\AppData\\Roaming\\nltk_data...\n",
      "[nltk_data]   Package wordnet is already up-to-date!\n"
     ]
    }
   ],
   "source": [
    "from sklearn import metrics\n",
    "#from sklearn.model_selection import GridSearchCV\n",
    "from sklearn.feature_extraction.text import  CountVectorizer #bag-of-words vectorizer \n",
    "from sklearn.decomposition import LatentDirichletAllocation #package for LDA\n",
    "\n",
    "# Plotting tools\n",
    "\n",
    "from pprint import pprint\n",
    "import pyLDAvis\n",
    "import pyLDAvis.sklearn\n",
    "\n",
    "import matplotlib.pyplot as plt\n",
    "%matplotlib inline\n",
    "\n",
    "#define text normalization function\n",
    "%run ./Text_Normalization_Function.ipynb #defining text normalization function"
   ]
  },
  {
   "cell_type": "code",
   "execution_count": 56,
   "metadata": {},
   "outputs": [],
   "source": [
    "def display_topics(model, feature_names, no_top_words):\n",
    "    for topic_idx, topic in enumerate(model.components_):\n",
    "        print(\"Topic %d:\" % (topic_idx))\n",
    "        print(\" \".join([feature_names[i]\n",
    "                        for i in topic.argsort()[:-no_top_words - 1:-1]]))\n",
    "        \n",
    "def get_topic_words(vectorizer, lda_model, n_words):\n",
    "    keywords = np.array(vectorizer.get_feature_names())\n",
    "    topic_words = []\n",
    "    for topic_weights in lda_model.components_:\n",
    "        top_word_locs = (-topic_weights).argsort()[:n_words]\n",
    "        topic_words.append(keywords.take(top_word_locs).tolist())\n",
    "    return topic_words"
   ]
  },
  {
   "cell_type": "code",
   "execution_count": 57,
   "metadata": {},
   "outputs": [
    {
     "data": {
      "text/plain": [
       "[\"Not much to write about here, but it does exactly what it's supposed to. filters out the pop sounds. now my recordings are much more crisp. it is one of the lowest prices pop filters on amazon so might as well buy it, they honestly work the same despite their pricing,\",\n",
       " \"The product does exactly as it should and is quite affordable.I did not realized it was double screened until it arrived, so it was even better than I had expected.As an added bonus, one of the screens carries a small hint of the smell of an old grape candy I used to buy, so for reminiscent's sake, I cannot stop putting the pop filter next to my nose and smelling it after recording. :DIf you needed a pop filter, this will work just as well as the expensive ones, and it may even come with a pleasing aroma like mine did!Buy this product! :]\",\n",
       " 'The primary job of this device is to block the breath that would otherwise produce a popping sound, while allowing your voice to pass through with no noticeable reduction of volume or high frequencies. The double cloth filter blocks the pops and lets the voice through with no coloration. The metal clamp mount attaches to the mike stand secure enough to keep it attached. The goose neck needs a little coaxing to stay where you put it.']"
      ]
     },
     "execution_count": 57,
     "metadata": {},
     "output_type": "execute_result"
    }
   ],
   "source": [
    "data_topic = data['reviewText']\n",
    "news_corpus = list(data_topic)\n",
    "news_corpus[:3]"
   ]
  },
  {
   "cell_type": "code",
   "execution_count": 65,
   "metadata": {},
   "outputs": [],
   "source": [
    "#normalize data\n",
    "normalized_corpus_news = normalize_corpus(news_corpus)\n",
    "\n",
    "#define a Bag-of-Words vecgtorizer\n",
    "bow_vectorizer_news = CountVectorizer(max_features=500)\n",
    "\n",
    "#vectorize data\n",
    "bow_news_corpus = bow_vectorizer_news.fit_transform(normalized_corpus_news)"
   ]
  },
  {
   "cell_type": "code",
   "execution_count": 59,
   "metadata": {},
   "outputs": [
    {
     "name": "stdout",
     "output_type": "stream",
     "text": [
      "Perplexity of 2 topic:  489.0481654962962\n"
     ]
    }
   ],
   "source": [
    "# 2 topic model\n",
    "lda_news_2 = LatentDirichletAllocation(n_components=2, max_iter=100,\n",
    "                                     doc_topic_prior = 0.25,\n",
    "                                     topic_word_prior = 0.25).fit(bow_news_corpus)\n",
    "#Perplexity score:\n",
    "print(\"Perplexity of 2 topic: \", lda_news_2.perplexity(bow_news_corpus))"
   ]
  },
  {
   "cell_type": "code",
   "execution_count": 76,
   "metadata": {},
   "outputs": [
    {
     "name": "stdout",
     "output_type": "stream",
     "text": [
      "Perplexity of 3 topic:  292.5259229430621\n"
     ]
    }
   ],
   "source": [
    "# 3 topic model\n",
    "lda_news_3 = LatentDirichletAllocation(n_components=3, max_iter=100,\n",
    "                                     doc_topic_prior = 0.25,\n",
    "                                     topic_word_prior = 0.25).fit(bow_news_corpus)\n",
    "#Perplexity score:\n",
    "print(\"Perplexity of 3 topic: \", lda_news_3.perplexity(bow_news_corpus))"
   ]
  },
  {
   "cell_type": "code",
   "execution_count": 70,
   "metadata": {},
   "outputs": [
    {
     "name": "stdout",
     "output_type": "stream",
     "text": [
      "Perplexity of 4 topic:  294.3938967784993\n"
     ]
    }
   ],
   "source": [
    "# 4 topic model\n",
    "lda_news_4 = LatentDirichletAllocation(n_components=4, max_iter=100,\n",
    "                                     doc_topic_prior = 0.25,\n",
    "                                     topic_word_prior = 0.25).fit(bow_news_corpus)\n",
    "#Perplexity score:\n",
    "print(\"Perplexity of 4 topic: \", lda_news_4.perplexity(bow_news_corpus))"
   ]
  },
  {
   "cell_type": "code",
   "execution_count": 66,
   "metadata": {},
   "outputs": [
    {
     "name": "stdout",
     "output_type": "stream",
     "text": [
      "Perplexity of 5 topic:  289.28868435154976\n"
     ]
    }
   ],
   "source": [
    "# 5 topic model\n",
    "lda_news_5 = LatentDirichletAllocation(n_components=5, max_iter=100,\n",
    "                                     doc_topic_prior = 0.25,\n",
    "                                     topic_word_prior = 0.25).fit(bow_news_corpus)\n",
    "#Perplexity score:\n",
    "print(\"Perplexity of 5 topic: \", lda_news_5.perplexity(bow_news_corpus))"
   ]
  },
  {
   "cell_type": "code",
   "execution_count": 77,
   "metadata": {},
   "outputs": [],
   "source": [
    "# Find the best topic number\n",
    "lda_news = lda_news_3"
   ]
  },
  {
   "cell_type": "code",
   "execution_count": 78,
   "metadata": {},
   "outputs": [
    {
     "name": "stdout",
     "output_type": "stream",
     "text": [
      "Topic 0:\n",
      "guitar use stand strap work well good mic great fit\n",
      "Topic 1:\n",
      "string guitar use pick play sound like tuner good great\n",
      "Topic 2:\n",
      "pedal sound use amp cable good like great tone work\n"
     ]
    }
   ],
   "source": [
    "no_top_words_news = 10\n",
    "display_topics(lda_news, bow_vectorizer_news.get_feature_names(), no_top_words_news)"
   ]
  },
  {
   "cell_type": "code",
   "execution_count": 80,
   "metadata": {},
   "outputs": [
    {
     "data": {
      "text/html": [
       "<div>\n",
       "<style scoped>\n",
       "    .dataframe tbody tr th:only-of-type {\n",
       "        vertical-align: middle;\n",
       "    }\n",
       "\n",
       "    .dataframe tbody tr th {\n",
       "        vertical-align: top;\n",
       "    }\n",
       "\n",
       "    .dataframe thead th {\n",
       "        text-align: right;\n",
       "    }\n",
       "</style>\n",
       "<table border=\"1\" class=\"dataframe\">\n",
       "  <thead>\n",
       "    <tr style=\"text-align: right;\">\n",
       "      <th></th>\n",
       "      <th>Topic_0</th>\n",
       "      <th>Topic_1</th>\n",
       "      <th>Topic_2</th>\n",
       "    </tr>\n",
       "  </thead>\n",
       "  <tbody>\n",
       "    <tr>\n",
       "      <th>guitar</th>\n",
       "      <td>0.032856</td>\n",
       "      <td>0.036893</td>\n",
       "      <td>0.005226</td>\n",
       "    </tr>\n",
       "    <tr>\n",
       "      <th>use</th>\n",
       "      <td>0.021830</td>\n",
       "      <td>0.026576</td>\n",
       "      <td>0.025514</td>\n",
       "    </tr>\n",
       "    <tr>\n",
       "      <th>stand</th>\n",
       "      <td>0.021564</td>\n",
       "      <td>0.000003</td>\n",
       "      <td>0.000002</td>\n",
       "    </tr>\n",
       "    <tr>\n",
       "      <th>strap</th>\n",
       "      <td>0.020636</td>\n",
       "      <td>0.000003</td>\n",
       "      <td>0.000002</td>\n",
       "    </tr>\n",
       "    <tr>\n",
       "      <th>work</th>\n",
       "      <td>0.019741</td>\n",
       "      <td>0.009106</td>\n",
       "      <td>0.010546</td>\n",
       "    </tr>\n",
       "    <tr>\n",
       "      <th>well</th>\n",
       "      <td>0.019315</td>\n",
       "      <td>0.012435</td>\n",
       "      <td>0.010278</td>\n",
       "    </tr>\n",
       "    <tr>\n",
       "      <th>good</th>\n",
       "      <td>0.018847</td>\n",
       "      <td>0.016301</td>\n",
       "      <td>0.016189</td>\n",
       "    </tr>\n",
       "    <tr>\n",
       "      <th>mic</th>\n",
       "      <td>0.016478</td>\n",
       "      <td>0.000003</td>\n",
       "      <td>0.000003</td>\n",
       "    </tr>\n",
       "    <tr>\n",
       "      <th>great</th>\n",
       "      <td>0.015085</td>\n",
       "      <td>0.015007</td>\n",
       "      <td>0.014163</td>\n",
       "    </tr>\n",
       "    <tr>\n",
       "      <th>fit</th>\n",
       "      <td>0.013083</td>\n",
       "      <td>0.000014</td>\n",
       "      <td>0.000002</td>\n",
       "    </tr>\n",
       "  </tbody>\n",
       "</table>\n",
       "</div>"
      ],
      "text/plain": [
       "         Topic_0   Topic_1   Topic_2\n",
       "guitar  0.032856  0.036893  0.005226\n",
       "use     0.021830  0.026576  0.025514\n",
       "stand   0.021564  0.000003  0.000002\n",
       "strap   0.020636  0.000003  0.000002\n",
       "work    0.019741  0.009106  0.010546\n",
       "well    0.019315  0.012435  0.010278\n",
       "good    0.018847  0.016301  0.016189\n",
       "mic     0.016478  0.000003  0.000003\n",
       "great   0.015085  0.015007  0.014163\n",
       "fit     0.013083  0.000014  0.000002"
      ]
     },
     "execution_count": 80,
     "metadata": {},
     "output_type": "execute_result"
    }
   ],
   "source": [
    "word_weights = lda_news.components_ / lda_news.components_.sum(axis=1)[:, np.newaxis]\n",
    "word_weights_df = pd.DataFrame(word_weights.T, \n",
    "                               index = bow_vectorizer_news.get_feature_names(), \n",
    "                               columns = [\"Topic_\" + str(i) for i in range(3)])\n",
    "\n",
    "word_weights_df.sort_values(by='Topic_0',ascending=False).head(10)"
   ]
  },
  {
   "cell_type": "code",
   "execution_count": 81,
   "metadata": {},
   "outputs": [
    {
     "data": {
      "text/html": [
       "\n",
       "<link rel=\"stylesheet\" type=\"text/css\" href=\"https://cdn.jsdelivr.net/gh/bmabey/pyLDAvis@3.3.1/pyLDAvis/js/ldavis.v1.0.0.css\">\n",
       "\n",
       "\n",
       "<div id=\"ldavis_el93281920063615376460919445\"></div>\n",
       "<script type=\"text/javascript\">\n",
       "\n",
       "var ldavis_el93281920063615376460919445_data = {\"mdsDat\": {\"x\": [-1015.7005615234375, -387.9960021972656, -2184.74560546875], \"y\": [1338.981201171875, -373.316162109375, -60.565799713134766], \"topics\": [1, 2, 3], \"cluster\": [1, 1, 1], \"Freq\": [37.32811332798464, 34.9950554980789, 27.67683117393646]}, \"tinfo\": {\"Term\": [\"string\", \"pedal\", \"pick\", \"amp\", \"stand\", \"strap\", \"sound\", \"tuner\", \"guitar\", \"cable\", \"mic\", \"tune\", \"fit\", \"play\", \"microphone\", \"power\", \"effect\", \"capo\", \"case\", \"plug\", \"tone\", \"volume\", \"bag\", \"tube\", \"screw\", \"acoustic\", \"board\", \"record\", \"lock\", \"hold\", \"pedal\", \"amp\", \"cable\", \"power\", \"effect\", \"plug\", \"volume\", \"tube\", \"board\", \"distortion\", \"gain\", \"speaker\", \"behringer\", \"bos\", \"delay\", \"overdrive\", \"headphone\", \"jack\", \"input\", \"setting\", \"boost\", \"signal\", \"output\", \"mixer\", \"channel\", \"reverb\", \"supply\", \"usb\", \"track\", \"xlr\", \"record\", \"knob\", \"noise\", \"control\", \"sound\", \"unit\", \"tone\", \"switch\", \"use\", \"clean\", \"like\", \"good\", \"great\", \"want\", \"really\", \"work\", \"need\", \"well\", \"quality\", \"price\", \"play\", \"thing\", \"little\", \"buy\", \"much\", \"give\", \"time\", \"string\", \"pick\", \"tuner\", \"tune\", \"capo\", \"finger\", \"fret\", \"snark\", \"ukulele\", \"daddario\", \"planet\", \"grip\", \"tuning\", \"headstock\", \"uke\", \"display\", \"elixir\", \"martin\", \"tension\", \"gauge\", \"cloth\", \"bridge\", \"mandolin\", \"bend\", \"medium\", \"accurate\", \"action\", \"wave\", \"beginner\", \"ball\", \"acoustic\", \"play\", \"guitar\", \"electric\", \"change\", \"use\", \"easy\", \"last\", \"like\", \"time\", \"sound\", \"year\", \"great\", \"good\", \"instrument\", \"light\", \"feel\", \"well\", \"buy\", \"set\", \"long\", \"little\", \"new\", \"really\", \"much\", \"work\", \"nice\", \"love\", \"price\", \"tone\", \"stand\", \"strap\", \"mic\", \"microphone\", \"bag\", \"screw\", \"lock\", \"hole\", \"mount\", \"fit\", \"mics\", \"pad\", \"leather\", \"vocal\", \"install\", \"pin\", \"pocket\", \"fall\", \"item\", \"pop\", \"inside\", \"wall\", \"attach\", \"sturdy\", \"filter\", \"carry\", \"length\", \"comfortable\", \"case\", \"weight\", \"hold\", \"place\", \"button\", \"guitar\", \"work\", \"look\", \"well\", \"price\", \"good\", \"product\", \"use\", \"buy\", \"great\", \"quality\", \"need\", \"nice\", \"like\", \"purchase\", \"easy\", \"much\", \"really\", \"little\", \"put\"], \"Freq\": [4675.0, 3673.0, 2438.0, 2460.0, 1693.0, 1620.0, 5017.0, 1654.0, 6793.0, 1728.0, 1293.0, 1328.0, 1028.0, 2634.0, 684.0, 888.0, 849.0, 795.0, 1080.0, 731.0, 1797.0, 666.0, 500.0, 652.0, 482.0, 1141.0, 590.0, 701.0, 434.0, 1075.0, 3672.58778233188, 2460.158838937394, 1727.6886013599997, 888.0138706272656, 848.9360052060742, 730.6917094218064, 665.5616373510722, 651.5369219487508, 590.3969149360311, 535.3183653659651, 440.12481819970327, 442.12126674062773, 431.1043639660929, 407.05051236784345, 381.0074153279252, 367.98429975125, 357.95712311797354, 343.9233397939099, 341.9220744817063, 345.91413720317854, 302.85267338417896, 301.844150009859, 292.8243607513984, 282.80400402286995, 278.79970577486887, 266.7814427365639, 270.7731525092339, 266.7694901920135, 215.66312253580924, 210.66068677821713, 677.8111943010949, 480.52089108735134, 554.1411972117993, 486.1752743536757, 3279.987211861782, 516.2144970820102, 1222.2729005219915, 561.2311813967043, 2701.126159163862, 558.5028679918169, 1579.895695908104, 1713.8918628670467, 1499.4354015211773, 807.843512330467, 897.7789638246763, 1116.4720278358814, 875.8036157500253, 1088.092910236611, 774.3202628849111, 843.7977726435115, 842.644624566339, 680.5398272623542, 748.692099167846, 819.8098230447654, 719.3622432753999, 600.6634951989764, 627.7571855820844, 4674.5117333278395, 2437.930465323423, 1654.2509938292483, 1327.6375721588038, 794.888085000928, 461.281839067338, 360.72117098186106, 295.00064208749586, 296.97691881734903, 274.09094394147905, 282.0284339343192, 288.98480232200416, 255.1657142050978, 257.14094091106847, 241.20125638848546, 228.26144458556985, 212.3531148100263, 213.33446614538582, 203.37970713338402, 203.376000743939, 205.35663823618165, 203.36413610818227, 203.36019262012334, 185.43251600509518, 202.3569154164357, 288.9115312153714, 188.50816754811277, 273.0054956627688, 177.88824171248882, 228.2892400753462, 849.1240246133448, 1791.9597454597729, 3661.6133151673143, 554.4527044498947, 525.1733818198264, 2637.662671496194, 981.2905283582099, 588.5774041195987, 1692.4642622492106, 912.2835516754449, 1737.7247750239983, 687.3402510669208, 1489.3979435124922, 1617.9228792247507, 594.1710414156917, 553.0638130258645, 584.58511775265, 1234.2220964378123, 1021.670928367636, 651.2381486022099, 586.9470108903574, 804.90581956752, 525.4761434519071, 811.6748579481042, 763.5165385430913, 903.7818228098208, 633.0216106100459, 570.4546609498526, 596.699070340759, 575.2391480504971, 1692.6248827598492, 1619.7865230309562, 1293.4666231238566, 683.760314537967, 500.1641681842906, 482.2041263863249, 434.31323599043714, 378.42474906438633, 359.4655636299487, 1026.9237201786652, 297.58643678395066, 255.691054439016, 243.72560788175787, 239.69754236170706, 224.7211391544444, 208.77994546561882, 173.78058542451492, 216.6782803207254, 319.30434715847343, 237.0296298335117, 204.46331174593257, 194.93083603477726, 198.45394007085173, 378.62841426020896, 166.1195063823112, 167.6982200559798, 158.95925570620867, 223.36689963513442, 847.0055433758806, 214.8015840976868, 709.175174201158, 383.49146805157056, 277.6744641136585, 2579.052694814711, 1549.6026534256846, 951.1853991396964, 1516.161393478895, 964.3610523762344, 1479.371615304506, 640.208774296767, 1713.5663294279723, 976.5093995499095, 1184.09761649839, 711.7078187928083, 758.6249710419579, 666.7879325362914, 905.4699222847881, 439.02976331010245, 537.9248404913168, 517.9798211307256, 531.5292166526432, 500.1826285386738, 438.1260028302452], \"Total\": [4675.0, 3673.0, 2438.0, 2460.0, 1693.0, 1620.0, 5017.0, 1654.0, 6793.0, 1728.0, 1293.0, 1328.0, 1028.0, 2634.0, 684.0, 888.0, 849.0, 795.0, 1080.0, 731.0, 1797.0, 666.0, 500.0, 652.0, 482.0, 1141.0, 590.0, 701.0, 434.0, 1075.0, 3673.0900332963665, 2460.6663297477044, 1728.202086420341, 888.5235491781809, 849.445432377383, 731.2090359187744, 666.0788270287155, 652.0508205303416, 590.9285208584178, 535.8185302914762, 440.6282252288572, 442.63220197137423, 431.6101906758007, 407.56207660203864, 381.51004814325216, 368.48402556304825, 358.46396389863656, 344.4358917576369, 342.431892938633, 346.43982335358646, 303.35382145205017, 302.3517825988991, 293.33374671202904, 283.31372315479246, 279.3057242992314, 267.28171629313977, 271.28963966614737, 267.2816670315816, 216.17948176984083, 211.16951086405192, 701.0547760838141, 501.6648647701309, 607.6325002082833, 529.5393728800578, 5017.97118276149, 579.645865870363, 1797.7646968593097, 690.4221185489891, 7052.355160088028, 765.9911833790069, 4177.829880442103, 4811.186357396304, 4172.93096153206, 1630.7196663943464, 2240.9830384254237, 3569.8565040713866, 2167.6294227806543, 3838.4764001533185, 1821.36199514265, 2404.857895360505, 2634.86990771379, 1487.543699004215, 2053.7805472740397, 2817.990150962311, 2000.8586029492167, 1236.6309219514503, 1886.414128468798, 4675.01848690835, 2438.459271642574, 1654.7672508635399, 1328.1459079024855, 795.3946707300519, 461.8028752737692, 361.2273275143146, 295.5047422691446, 297.4963751732857, 274.5930099936098, 282.55950261506126, 289.5300801513325, 255.67288878615793, 257.66451099999983, 241.73177908351113, 228.7864570073429, 212.85360854894355, 213.84944585072927, 203.89147702889449, 203.8915165069268, 205.8830979715533, 203.89153727707534, 203.89151238834836, 185.9672153295467, 204.89151867521682, 292.5366759664011, 195.9681198938035, 288.6277675859859, 203.04833615594325, 267.7032343743878, 1141.5422080174533, 2634.86990771379, 6793.890310094262, 736.0228465077029, 718.919405976273, 7052.355160088028, 1811.0420952276622, 909.3766013546, 4177.829880442103, 1886.414128468798, 5017.97118276149, 1263.230348384639, 4172.93096153206, 4811.186357396304, 1017.7875971272554, 934.1647754280597, 1050.1226622694817, 3838.4764001533185, 2817.990150962311, 1267.4036933136492, 1077.147742071239, 2053.7805472740397, 909.6231363626752, 2240.9830384254237, 2000.8586029492167, 3569.8565040713866, 1736.526514526298, 1142.7329417404153, 2404.857895360505, 1797.7646968593097, 1693.1334769093744, 1620.2890764979174, 1293.9862332446264, 684.2887555424114, 500.68090314766624, 482.7193002916303, 434.82160565674593, 378.94097651487533, 359.9815010691109, 1028.550935007251, 298.1137582308953, 256.20320068800174, 244.2287690690829, 240.23742829287607, 225.2693949706682, 209.30340159960065, 180.39033290627768, 232.29513161693717, 348.12385996266426, 259.1520533055347, 225.33708694811264, 224.3908689667789, 229.19791497971633, 449.0803489419124, 197.4562053365835, 208.3279867576011, 197.48579214327833, 284.0184452213762, 1080.4641703545497, 278.18777501247257, 1075.0311074737583, 543.6526322606833, 386.37245275646137, 6793.890310094262, 3569.8565040713866, 2021.5263990645667, 3838.4764001533185, 2404.857895360505, 4811.186357396304, 1354.5653224315188, 7052.355160088028, 2817.990150962311, 4172.93096153206, 1821.36199514265, 2167.6294227806543, 1736.526514526298, 4177.829880442103, 922.2611197854768, 1811.0420952276622, 2000.8586029492167, 2240.9830384254237, 2053.7805472740397, 1087.3996779867557], \"Category\": [\"Default\", \"Default\", \"Default\", \"Default\", \"Default\", \"Default\", \"Default\", \"Default\", \"Default\", \"Default\", \"Default\", \"Default\", \"Default\", \"Default\", \"Default\", \"Default\", \"Default\", \"Default\", \"Default\", \"Default\", \"Default\", \"Default\", \"Default\", \"Default\", \"Default\", \"Default\", \"Default\", \"Default\", \"Default\", \"Default\", \"Topic1\", \"Topic1\", \"Topic1\", \"Topic1\", \"Topic1\", \"Topic1\", \"Topic1\", \"Topic1\", \"Topic1\", \"Topic1\", \"Topic1\", \"Topic1\", \"Topic1\", \"Topic1\", \"Topic1\", \"Topic1\", \"Topic1\", \"Topic1\", \"Topic1\", \"Topic1\", \"Topic1\", \"Topic1\", \"Topic1\", \"Topic1\", \"Topic1\", \"Topic1\", \"Topic1\", \"Topic1\", \"Topic1\", \"Topic1\", \"Topic1\", \"Topic1\", \"Topic1\", \"Topic1\", \"Topic1\", \"Topic1\", \"Topic1\", \"Topic1\", \"Topic1\", \"Topic1\", \"Topic1\", \"Topic1\", \"Topic1\", \"Topic1\", \"Topic1\", \"Topic1\", \"Topic1\", \"Topic1\", \"Topic1\", \"Topic1\", \"Topic1\", \"Topic1\", \"Topic1\", \"Topic1\", \"Topic1\", \"Topic1\", \"Topic1\", \"Topic2\", \"Topic2\", \"Topic2\", \"Topic2\", \"Topic2\", \"Topic2\", \"Topic2\", \"Topic2\", \"Topic2\", \"Topic2\", \"Topic2\", \"Topic2\", \"Topic2\", \"Topic2\", \"Topic2\", \"Topic2\", \"Topic2\", \"Topic2\", \"Topic2\", \"Topic2\", \"Topic2\", \"Topic2\", \"Topic2\", \"Topic2\", \"Topic2\", \"Topic2\", \"Topic2\", \"Topic2\", \"Topic2\", \"Topic2\", \"Topic2\", \"Topic2\", \"Topic2\", \"Topic2\", \"Topic2\", \"Topic2\", \"Topic2\", \"Topic2\", \"Topic2\", \"Topic2\", \"Topic2\", \"Topic2\", \"Topic2\", \"Topic2\", \"Topic2\", \"Topic2\", \"Topic2\", \"Topic2\", \"Topic2\", \"Topic2\", \"Topic2\", \"Topic2\", \"Topic2\", \"Topic2\", \"Topic2\", \"Topic2\", \"Topic2\", \"Topic2\", \"Topic2\", \"Topic2\", \"Topic3\", \"Topic3\", \"Topic3\", \"Topic3\", \"Topic3\", \"Topic3\", \"Topic3\", \"Topic3\", \"Topic3\", \"Topic3\", \"Topic3\", \"Topic3\", \"Topic3\", \"Topic3\", \"Topic3\", \"Topic3\", \"Topic3\", \"Topic3\", \"Topic3\", \"Topic3\", \"Topic3\", \"Topic3\", \"Topic3\", \"Topic3\", \"Topic3\", \"Topic3\", \"Topic3\", \"Topic3\", \"Topic3\", \"Topic3\", \"Topic3\", \"Topic3\", \"Topic3\", \"Topic3\", \"Topic3\", \"Topic3\", \"Topic3\", \"Topic3\", \"Topic3\", \"Topic3\", \"Topic3\", \"Topic3\", \"Topic3\", \"Topic3\", \"Topic3\", \"Topic3\", \"Topic3\", \"Topic3\", \"Topic3\", \"Topic3\", \"Topic3\", \"Topic3\", \"Topic3\"], \"logprob\": [30.0, 29.0, 28.0, 27.0, 26.0, 25.0, 24.0, 23.0, 22.0, 21.0, 20.0, 19.0, 18.0, 17.0, 16.0, 15.0, 14.0, 13.0, 12.0, 11.0, 10.0, 9.0, 8.0, 7.0, 6.0, 5.0, 4.0, 3.0, 2.0, 1.0, -3.3613, -3.762, -4.1154, -4.781, -4.826, -4.9759, -5.0693, -5.0906, -5.1891, -5.2871, -5.4829, -5.4784, -5.5036, -5.561, -5.6271, -5.6619, -5.6895, -5.7295, -5.7354, -5.7237, -5.8567, -5.86, -5.8904, -5.9252, -5.9394, -5.9835, -5.9687, -5.9836, -6.1962, -6.2197, -5.0511, -5.3951, -5.2525, -5.3834, -3.4743, -5.3234, -4.4615, -5.2398, -3.6685, -5.2447, -4.2048, -4.1234, -4.2571, -4.8756, -4.77, -4.552, -4.7948, -4.5778, -4.918, -4.832, -4.8334, -5.0471, -4.9516, -4.8609, -4.9916, -5.1719, -5.1278, -3.0555, -3.7065, -4.0943, -4.3142, -4.8272, -5.3714, -5.6173, -5.8184, -5.8117, -5.8919, -5.8634, -5.839, -5.9635, -5.9558, -6.0198, -6.0749, -6.1471, -6.1425, -6.1903, -6.1903, -6.1807, -6.1904, -6.1904, -6.2827, -6.1954, -5.8393, -6.2663, -5.8959, -6.3242, -6.0748, -4.7612, -4.0143, -3.2997, -5.1874, -5.2417, -3.6278, -4.6165, -5.1277, -4.0715, -4.6894, -4.0451, -4.9726, -4.1993, -4.1165, -5.1182, -5.1899, -5.1345, -4.3872, -4.5762, -5.0265, -5.1305, -4.8147, -5.2411, -4.8063, -4.8675, -4.6988, -5.0549, -5.159, -5.114, -5.1506, -3.8368, -3.8807, -4.1057, -4.7432, -5.0559, -5.0924, -5.197, -5.3348, -5.3862, -4.3365, -5.5751, -5.7268, -5.7747, -5.7914, -5.8559, -5.9295, -6.113, -5.8924, -5.5046, -5.8026, -5.9504, -5.9981, -5.9802, -5.3342, -6.1581, -6.1486, -6.2021, -5.862, -4.5291, -5.9011, -4.7067, -5.3215, -5.6443, -3.4156, -3.925, -4.4131, -3.9469, -4.3993, -3.9714, -4.809, -3.8245, -4.3868, -4.1941, -4.7031, -4.6393, -4.7683, -4.4623, -5.1862, -4.9831, -5.0209, -4.995, -5.0558, -5.1883], \"loglift\": [30.0, 29.0, 28.0, 27.0, 26.0, 25.0, 24.0, 23.0, 22.0, 21.0, 20.0, 19.0, 18.0, 17.0, 16.0, 15.0, 14.0, 13.0, 12.0, 11.0, 10.0, 9.0, 8.0, 7.0, 6.0, 5.0, 4.0, 3.0, 2.0, 1.0, 0.9853, 0.9852, 0.9851, 0.9848, 0.9848, 0.9847, 0.9846, 0.9846, 0.9845, 0.9845, 0.9843, 0.9843, 0.9843, 0.9842, 0.9841, 0.9841, 0.984, 0.9839, 0.9839, 0.9839, 0.9838, 0.9837, 0.9837, 0.9836, 0.9836, 0.9835, 0.9835, 0.9835, 0.983, 0.983, 0.9517, 0.9424, 0.8933, 0.9, 0.5602, 0.8695, 0.5996, 0.7783, 0.0257, 0.6695, 0.013, -0.0468, -0.0381, 0.283, 0.0707, -0.1769, 0.0792, -0.2752, 0.1301, -0.0619, -0.1546, 0.2034, -0.0237, -0.2493, -0.0375, 0.2633, -0.1149, 1.0499, 1.0497, 1.0497, 1.0496, 1.0493, 1.0488, 1.0486, 1.0483, 1.0482, 1.0481, 1.0481, 1.0481, 1.048, 1.0479, 1.0478, 1.0477, 1.0476, 1.0476, 1.0475, 1.0474, 1.0474, 1.0474, 1.0474, 1.0471, 1.0375, 1.0375, 1.0112, 0.9943, 0.9177, 0.8907, 0.754, 0.6644, 0.4318, 0.7667, 0.7359, 0.0665, 0.4372, 0.6149, 0.1464, 0.3235, -0.0105, 0.4414, 0.0197, -0.0398, 0.5117, 0.5258, 0.4642, -0.0847, 0.0354, 0.3841, 0.4428, 0.1133, 0.5012, 0.0344, 0.0866, -0.3237, 0.0408, 0.3552, -0.3439, -0.0896, 1.2843, 1.2843, 1.2842, 1.2838, 1.2835, 1.2835, 1.2834, 1.2832, 1.2831, 1.283, 1.2828, 1.2826, 1.2825, 1.2823, 1.2821, 1.2821, 1.2472, 1.215, 1.1982, 1.1953, 1.1874, 1.1438, 1.1405, 1.1139, 1.1118, 1.0676, 1.0676, 1.0444, 1.0411, 1.026, 0.8686, 0.9356, 0.9542, 0.316, 0.45, 0.5307, 0.3557, 0.3708, 0.1052, 0.5351, -0.1302, 0.2248, 0.0249, 0.3449, 0.2347, 0.3274, -0.2445, 0.5423, 0.0706, -0.0668, -0.1543, -0.1279, 0.3755]}, \"token.table\": {\"Topic\": [1, 2, 2, 3, 1, 2, 1, 2, 3, 3, 2, 3, 1, 2, 1, 2, 1, 1, 1, 2, 1, 3, 1, 2, 3, 1, 2, 1, 2, 3, 1, 2, 3, 1, 2, 1, 1, 2, 2, 2, 3, 1, 2, 2, 1, 2, 1, 1, 2, 3, 1, 2, 3, 2, 1, 2, 3, 1, 2, 3, 1, 3, 2, 2, 3, 2, 1, 2, 1, 2, 3, 1, 2, 3, 1, 2, 3, 2, 1, 2, 3, 1, 2, 1, 2, 3, 3, 1, 1, 2, 3, 3, 1, 2, 3, 1, 3, 1, 1, 3, 1, 2, 3, 3, 1, 3, 1, 2, 3, 1, 2, 3, 1, 2, 3, 3, 1, 2, 3, 1, 2, 3, 1, 2, 3, 2, 2, 2, 3, 3, 3, 3, 1, 3, 1, 2, 3, 1, 2, 3, 1, 2, 3, 1, 2, 3, 1, 2, 1, 1, 3, 1, 2, 3, 1, 2, 3, 2, 1, 2, 1, 1, 3, 2, 3, 1, 1, 2, 3, 1, 2, 3, 1, 2, 3, 1, 2, 3, 1, 2, 3, 1, 2, 3, 1, 3, 1, 3, 1, 2, 3, 1, 1, 2, 1, 2, 1, 3, 3, 2, 1, 3, 1, 1, 2, 3, 2, 1, 2, 3, 1, 2, 3, 1, 2, 1, 1, 2, 2, 2, 2, 2, 1, 3, 1, 1, 2, 3, 3, 1, 1, 3, 1, 2, 3, 1, 2, 1, 2, 3, 1, 2, 3, 1, 2, 3, 1, 1, 2, 3], \"Freq\": [0.010255124387700914, 0.9879103160151881, 0.7437307127473464, 0.2557943087423146, 0.035720095716555066, 0.9644425843469867, 0.9997292075972882, 0.13089124306673974, 0.8638822042404823, 0.998640045698996, 0.8516893736186163, 0.14568370864528962, 0.1231233925541736, 0.876638554985716, 0.9985862459020134, 0.9947990008462905, 0.9984287086751729, 0.9988336344327012, 0.9986208810036379, 0.9956273944030163, 0.27952303335681816, 0.7195129932703282, 0.2909875322736595, 0.3626698268093658, 0.34670099881873817, 0.9998830655153533, 0.9995038051616695, 0.08160209420052744, 0.11040283333012536, 0.8064206956287419, 0.07589330794106024, 0.14068027813464823, 0.7839223393424148, 0.26845846473974544, 0.7302626631521573, 0.9989054134139269, 0.7297734127096485, 0.2702380973719092, 0.9957106825171471, 0.21125388512437426, 0.785160273045591, 0.917778780748151, 0.0812026493254537, 0.9978404038994888, 0.9986630807085305, 0.9965624844336058, 0.9984723740497907, 0.16123313796485406, 0.5416770833682254, 0.2970665350174366, 0.9994756197862689, 0.7526940265898419, 0.24591627944541766, 0.9959896919072092, 0.051658422268566616, 0.017219474089522204, 0.9341564693565796, 0.19235848083065454, 0.5570777786432322, 0.25139920266976634, 0.15699683860103283, 0.8406927486377888, 0.9982614329256975, 0.0009722415934539501, 0.9984921164772068, 0.9993706801866877, 0.9985742510513689, 0.9956274958262106, 0.48599787481587414, 0.3727870553912113, 0.14151352428082858, 0.3562530886722033, 0.33629959012346844, 0.3074085870164461, 0.3592199376933026, 0.3568235405105588, 0.28373342643687144, 0.9981691707091178, 0.08139666299562723, 0.5390137068535026, 0.37960577552571906, 0.9987056888687206, 0.9974210224084766, 0.051161310233380906, 0.28929395422875387, 0.6595157991903102, 0.9975168256451717, 0.9987387479158947, 0.07988032615396674, 0.01331338769232779, 0.9053103630782897, 0.9988041208584802, 0.10709503663402531, 0.5836188234918444, 0.3094948306396144, 0.08330368393338568, 0.9163405232672425, 0.9987344763769752, 0.9588074305749918, 0.041860615472089045, 0.2122333032458816, 0.6476964539472759, 0.14075576588327898, 0.9990633000774033, 0.1924189056214765, 0.8051212103635464, 0.14558459447122818, 0.5919726525190381, 0.26226636504008016, 0.3781867728498324, 0.4049949491531116, 0.21661963887917615, 0.36469329743829715, 0.39196008603181465, 0.24345346958497804, 0.9981104764665385, 0.20702823882933183, 0.5449577407749676, 0.24787685994363948, 0.2646515030659821, 0.2651461787726475, 0.4704365970387832, 0.3412870897079581, 0.49880420803470804, 0.15926730853038046, 0.9956275159377389, 0.9960278323502312, 0.9858875628727205, 0.009761262998739806, 0.9992378332788336, 0.9995780209157719, 0.9996184066392293, 0.998892665165319, 0.9972734680360076, 0.3593457323472091, 0.38183607720899554, 0.25888885863122996, 0.40412811839223856, 0.24589073870212688, 0.3501521025795766, 0.24295776037944275, 0.5771621004489025, 0.18029444661641905, 0.25165178668130384, 0.3645207802500351, 0.38410009546093743, 0.9117353002186367, 0.08722377420864214, 0.9988622287214819, 0.998686440850974, 0.9992068768561202, 0.9999754884047082, 0.9998116549872639, 0.9985504220319311, 0.1177222296043474, 0.1765833444065211, 0.7044939677885165, 0.9980198768405129, 0.3199398943879737, 0.6801094789362383, 0.999714122899874, 0.03326120587136627, 0.9645749702696219, 0.0848922465378365, 0.9145210195212387, 0.9994107649947318, 0.350956287948764, 0.24824751647560675, 0.40085528623531813, 0.2606002044747061, 0.26650615811719236, 0.47247629139890057, 0.2591456962379513, 0.2645671543182432, 0.47600401944962606, 0.19588013893323436, 0.40095652852061114, 0.4027957786514397, 0.42495670935495716, 0.18392829151668044, 0.39091624943246706, 0.40071699990686205, 0.3623409843255813, 0.23739581731676015, 0.9671141587357822, 0.032807707449738925, 0.9989459948961462, 0.998509899456691, 0.3282300676529991, 0.5136484952935154, 0.15780291714086495, 0.9987304480491621, 0.9988365122379127, 0.9982919317461076, 0.6536506250310808, 0.3463551177756154, 0.9985717216945388, 0.9999211657490713, 0.9998215895533022, 0.999996045596739, 0.15587411064618717, 0.843946970498642, 0.9989323600174935, 0.8125463899954619, 0.12021631081929295, 0.06662590720105392, 0.995627688602363, 0.45780167698997487, 0.27158866006453725, 0.27091641090596164, 0.33290675176916085, 0.48345693887495966, 0.18341677724861408, 0.6797330051785035, 0.3198416350062517, 0.9991697557586343, 0.9999220604763593, 0.9998901416616823, 0.9995363391056117, 0.997368165278092, 0.996972764250172, 0.9983314916929776, 0.89019870645537, 0.10868705136955098, 0.9989461790076746, 0.3829926228454844, 0.3740594368998104, 0.24303937636325815, 0.9990116931630377, 0.9998816551051966, 0.129238770425607, 0.8690193183790815, 0.4954867575654825, 0.26123435485506874, 0.2434507954870007, 0.051970051687876176, 0.9458549407193464, 0.09346205094323173, 0.13300368788075287, 0.7728592674151855, 0.28344579634683764, 0.32148172122426255, 0.3949483706450422, 0.31261760766216035, 0.2532314671385241, 0.43419112175300045, 0.9991972758597663, 0.3087322913819432, 0.5438438055881922, 0.1472415543513883], \"Term\": [\"accurate\", \"accurate\", \"acoustic\", \"acoustic\", \"action\", \"action\", \"amp\", \"attach\", \"attach\", \"bag\", \"ball\", \"ball\", \"beginner\", \"beginner\", \"behringer\", \"bend\", \"board\", \"boost\", \"bos\", \"bridge\", \"button\", \"button\", \"buy\", \"buy\", \"buy\", \"cable\", \"capo\", \"carry\", \"carry\", \"carry\", \"case\", \"case\", \"case\", \"change\", \"change\", \"channel\", \"clean\", \"clean\", \"cloth\", \"comfortable\", \"comfortable\", \"control\", \"control\", \"daddario\", \"delay\", \"display\", \"distortion\", \"easy\", \"easy\", \"easy\", \"effect\", \"electric\", \"electric\", \"elixir\", \"fall\", \"fall\", \"fall\", \"feel\", \"feel\", \"feel\", \"filter\", \"filter\", \"finger\", \"fit\", \"fit\", \"fret\", \"gain\", \"gauge\", \"give\", \"give\", \"give\", \"good\", \"good\", \"good\", \"great\", \"great\", \"great\", \"grip\", \"guitar\", \"guitar\", \"guitar\", \"headphone\", \"headstock\", \"hold\", \"hold\", \"hold\", \"hole\", \"input\", \"inside\", \"inside\", \"inside\", \"install\", \"instrument\", \"instrument\", \"instrument\", \"item\", \"item\", \"jack\", \"knob\", \"knob\", \"last\", \"last\", \"last\", \"leather\", \"length\", \"length\", \"light\", \"light\", \"light\", \"like\", \"like\", \"like\", \"little\", \"little\", \"little\", \"lock\", \"long\", \"long\", \"long\", \"look\", \"look\", \"look\", \"love\", \"love\", \"love\", \"mandolin\", \"martin\", \"medium\", \"medium\", \"mic\", \"microphone\", \"mics\", \"mixer\", \"mount\", \"much\", \"much\", \"much\", \"need\", \"need\", \"need\", \"new\", \"new\", \"new\", \"nice\", \"nice\", \"nice\", \"noise\", \"noise\", \"output\", \"overdrive\", \"pad\", \"pedal\", \"pick\", \"pin\", \"place\", \"place\", \"place\", \"planet\", \"play\", \"play\", \"plug\", \"pocket\", \"pocket\", \"pop\", \"pop\", \"power\", \"price\", \"price\", \"price\", \"product\", \"product\", \"product\", \"purchase\", \"purchase\", \"purchase\", \"put\", \"put\", \"put\", \"quality\", \"quality\", \"quality\", \"really\", \"really\", \"really\", \"record\", \"record\", \"reverb\", \"screw\", \"set\", \"set\", \"set\", \"setting\", \"signal\", \"snark\", \"sound\", \"sound\", \"speaker\", \"stand\", \"strap\", \"string\", \"sturdy\", \"sturdy\", \"supply\", \"switch\", \"switch\", \"switch\", \"tension\", \"thing\", \"thing\", \"thing\", \"time\", \"time\", \"time\", \"tone\", \"tone\", \"track\", \"tube\", \"tune\", \"tuner\", \"tuning\", \"uke\", \"ukulele\", \"unit\", \"unit\", \"usb\", \"use\", \"use\", \"use\", \"vocal\", \"volume\", \"wall\", \"wall\", \"want\", \"want\", \"want\", \"wave\", \"wave\", \"weight\", \"weight\", \"weight\", \"well\", \"well\", \"well\", \"work\", \"work\", \"work\", \"xlr\", \"year\", \"year\", \"year\"]}, \"R\": 30, \"lambda.step\": 0.01, \"plot.opts\": {\"xlab\": \"PC1\", \"ylab\": \"PC2\"}, \"topic.order\": [3, 2, 1]};\n",
       "\n",
       "function LDAvis_load_lib(url, callback){\n",
       "  var s = document.createElement('script');\n",
       "  s.src = url;\n",
       "  s.async = true;\n",
       "  s.onreadystatechange = s.onload = callback;\n",
       "  s.onerror = function(){console.warn(\"failed to load library \" + url);};\n",
       "  document.getElementsByTagName(\"head\")[0].appendChild(s);\n",
       "}\n",
       "\n",
       "if(typeof(LDAvis) !== \"undefined\"){\n",
       "   // already loaded: just create the visualization\n",
       "   !function(LDAvis){\n",
       "       new LDAvis(\"#\" + \"ldavis_el93281920063615376460919445\", ldavis_el93281920063615376460919445_data);\n",
       "   }(LDAvis);\n",
       "}else if(typeof define === \"function\" && define.amd){\n",
       "   // require.js is available: use it to load d3/LDAvis\n",
       "   require.config({paths: {d3: \"https://d3js.org/d3.v5\"}});\n",
       "   require([\"d3\"], function(d3){\n",
       "      window.d3 = d3;\n",
       "      LDAvis_load_lib(\"https://cdn.jsdelivr.net/gh/bmabey/pyLDAvis@3.3.1/pyLDAvis/js/ldavis.v3.0.0.js\", function(){\n",
       "        new LDAvis(\"#\" + \"ldavis_el93281920063615376460919445\", ldavis_el93281920063615376460919445_data);\n",
       "      });\n",
       "    });\n",
       "}else{\n",
       "    // require.js not available: dynamically load d3 & LDAvis\n",
       "    LDAvis_load_lib(\"https://d3js.org/d3.v5.js\", function(){\n",
       "         LDAvis_load_lib(\"https://cdn.jsdelivr.net/gh/bmabey/pyLDAvis@3.3.1/pyLDAvis/js/ldavis.v3.0.0.js\", function(){\n",
       "                 new LDAvis(\"#\" + \"ldavis_el93281920063615376460919445\", ldavis_el93281920063615376460919445_data);\n",
       "            })\n",
       "         });\n",
       "}\n",
       "</script>"
      ],
      "text/plain": [
       "PreparedData(topic_coordinates=                 x            y  topics  cluster       Freq\n",
       "topic                                                      \n",
       "2     -1015.700562  1338.981201       1        1  37.328113\n",
       "1      -387.996002  -373.316162       2        1  34.995055\n",
       "0     -2184.745605   -60.565800       3        1  27.676831, topic_info=       Term         Freq        Total Category  logprob  loglift\n",
       "427  string  4675.000000  4675.000000  Default  30.0000  30.0000\n",
       "311   pedal  3673.000000  3673.000000  Default  29.0000  29.0000\n",
       "316    pick  2438.000000  2438.000000  Default  28.0000  28.0000\n",
       "20      amp  2460.000000  2460.000000  Default  27.0000  27.0000\n",
       "415   stand  1693.000000  1693.000000  Default  26.0000  26.0000\n",
       "..      ...          ...          ...      ...      ...      ...\n",
       "124    easy   537.924840  1811.042095   Topic3  -4.9831   0.0706\n",
       "276    much   517.979821  2000.858603   Topic3  -5.0209  -0.0668\n",
       "357  really   531.529217  2240.983038   Topic3  -4.9950  -0.1543\n",
       "240  little   500.182629  2053.780547   Topic3  -5.0558  -0.1279\n",
       "348     put   438.126003  1087.399678   Topic3  -5.1883   0.3755\n",
       "\n",
       "[200 rows x 6 columns], token_table=      Topic      Freq      Term\n",
       "term                           \n",
       "1         1  0.010255  accurate\n",
       "1         2  0.987910  accurate\n",
       "2         2  0.743731  acoustic\n",
       "2         3  0.255794  acoustic\n",
       "3         1  0.035720    action\n",
       "...     ...       ...       ...\n",
       "492       3  0.434191      work\n",
       "496       1  0.999197       xlr\n",
       "497       1  0.308732      year\n",
       "497       2  0.543844      year\n",
       "497       3  0.147242      year\n",
       "\n",
       "[250 rows x 3 columns], R=30, lambda_step=0.01, plot_opts={'xlab': 'PC1', 'ylab': 'PC2'}, topic_order=[3, 2, 1])"
      ]
     },
     "execution_count": 81,
     "metadata": {},
     "output_type": "execute_result"
    }
   ],
   "source": [
    "#Visualize topic modeling result\n",
    "pyLDAvis.enable_notebook()\n",
    "\n",
    "#run the visualization [mds is a function to use for visualizing the \"distance\" between topics]\n",
    "pyLDAvis.sklearn.prepare(lda_news, bow_news_corpus, bow_vectorizer_news, mds='tsne')"
   ]
  }
 ],
 "metadata": {
  "kernelspec": {
   "display_name": "Python 3 (ipykernel)",
   "language": "python",
   "name": "python3"
  },
  "language_info": {
   "codemirror_mode": {
    "name": "ipython",
    "version": 3
   },
   "file_extension": ".py",
   "mimetype": "text/x-python",
   "name": "python",
   "nbconvert_exporter": "python",
   "pygments_lexer": "ipython3",
   "version": "3.8.13"
  }
 },
 "nbformat": 4,
 "nbformat_minor": 4
}
